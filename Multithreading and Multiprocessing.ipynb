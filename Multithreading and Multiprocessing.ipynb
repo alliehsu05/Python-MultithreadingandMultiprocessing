{
 "cells": [
  {
   "cell_type": "markdown",
   "metadata": {},
   "source": [
    "# Initial code"
   ]
  },
  {
   "cell_type": "code",
   "execution_count": null,
   "metadata": {},
   "outputs": [],
   "source": [
    "import time\n",
    "\n",
    "start = time.perf_counter()\n",
    "\n",
    "def go_sleep(sec):\n",
    "    print('Sleep {} sec(s)'.format(sec))\n",
    "    time.sleep(sec)\n",
    "    print('Done sleep')\n",
    "    \n",
    "for _ in range(5):\n",
    "    go_sleep(1)\n",
    "    \n",
    "finish = time.perf_counter()\n",
    "\n",
    "print('Finished in {} second(s)'.format(round(finish-start, 2)))"
   ]
  },
  {
   "cell_type": "markdown",
   "metadata": {},
   "source": [
    "# Multithreading"
   ]
  },
  {
   "cell_type": "code",
   "execution_count": null,
   "metadata": {},
   "outputs": [],
   "source": [
    "import time\n",
    "import threading\n",
    "\n",
    "start = time.perf_counter()\n",
    "\n",
    "def go_sleep(sec):\n",
    "    print('Sleep {} sec(s)'.format(sec))\n",
    "    time.sleep(sec)\n",
    "    print('Done sleep')\n",
    "    \n",
    "threads = []    \n",
    "for _ in range(5):\n",
    "    t = threading.Thread(target=go_sleep, args=[1])\n",
    "    t.start()\n",
    "    threads.append(t)\n",
    "    \n",
    "for thread in threads:\n",
    "    thread.join()\n",
    "    \n",
    "finish = time.perf_counter()\n",
    "\n",
    "print('Finished in {} second(s)'.format(round(finish-start, 2)))"
   ]
  },
  {
   "cell_type": "code",
   "execution_count": null,
   "metadata": {},
   "outputs": [],
   "source": [
    "import time\n",
    "import concurrent.futures\n",
    "\n",
    "start = time.perf_counter()\n",
    "\n",
    "def go_sleep(sec):\n",
    "    print('Sleep {} sec(s)'.format(sec))\n",
    "    time.sleep(sec)\n",
    "    return 'Done sleep {}'.format(sec)\n",
    "    \n",
    "with concurrent.futures.ThreadPoolExecutor() as executor:\n",
    "    secs = [5, 4, 3, 2, 1]\n",
    "    results = [executor.submit(go_sleep, sec) for sec in secs]\n",
    "    \n",
    "    for f in concurrent.futures.as_completed(results):\n",
    "        print(f.result())\n",
    "    \n",
    "finish = time.perf_counter()\n",
    "\n",
    "print('Finished in {} second(s)'.format(round(finish-start, 2)))"
   ]
  },
  {
   "cell_type": "code",
   "execution_count": null,
   "metadata": {},
   "outputs": [],
   "source": [
    "import time\n",
    "import concurrent.futures\n",
    "\n",
    "start = time.perf_counter()\n",
    "\n",
    "def go_sleep(sec):\n",
    "    print('Sleep {} sec(s)'.format(sec))\n",
    "    time.sleep(sec)\n",
    "    return 'Done sleep {}'.format(sec)\n",
    "    \n",
    "with concurrent.futures.ThreadPoolExecutor() as executor:\n",
    "    secs = [5, 4, 3, 2, 1]\n",
    "    results = executor.map(go_sleep, secs)\n",
    "    \n",
    "    for result in results:\n",
    "        print(result)\n",
    "    \n",
    "finish = time.perf_counter()\n",
    "\n",
    "print('Finished in {} second(s)'.format(round(finish-start, 2)))"
   ]
  },
  {
   "cell_type": "markdown",
   "metadata": {},
   "source": [
    "# Multiprocessing"
   ]
  },
  {
   "cell_type": "code",
   "execution_count": null,
   "metadata": {},
   "outputs": [],
   "source": [
    "import time\n",
    "import multiprocessing\n",
    "\n",
    "start = time.perf_counter()\n",
    "\n",
    "def go_sleep(sec):\n",
    "    print('Sleep {} sec(s)'.format(sec))\n",
    "    time.sleep(sec)\n",
    "    print('Done sleep')\n",
    "\n",
    "processes = []\n",
    "for _ in range(5):\n",
    "    p = multiprocessing.Process(target=go_sleep, args=[1])\n",
    "    p.start()\n",
    "    processes.append(p)\n",
    "    \n",
    "for process in processes:  \n",
    "    process.terminate()\n",
    "\n",
    "finish = time.perf_counter()\n",
    "\n",
    "print('Finished in {} second(s)'.format(round(finish-start, 2)))"
   ]
  },
  {
   "cell_type": "code",
   "execution_count": null,
   "metadata": {},
   "outputs": [],
   "source": [
    "import time\n",
    "import concurrent.futures\n",
    "\n",
    "start = time.perf_counter()\n",
    "\n",
    "def go_sleep(sec):\n",
    "    print('Sleep {} sec(s)'.format(sec))\n",
    "    time.sleep(sec)\n",
    "    return 'Done sleep {}'.format(sec)\n",
    "    \n",
    "with concurrent.futures.ProcessPoolExecutor() as executor:\n",
    "    secs = [5, 4, 3, 2, 1]\n",
    "    results = [executor.submit(go_sleep, sec) for sec in secs]\n",
    "    \n",
    "#     for f in concurrent.futures.as_completed(results):\n",
    "#         print(f.result())\n",
    "    \n",
    "finish = time.perf_counter()\n",
    "\n",
    "print('Finished in {} second(s)'.format(round(finish-start, 2)))"
   ]
  },
  {
   "cell_type": "code",
   "execution_count": null,
   "metadata": {},
   "outputs": [],
   "source": [
    "import time\n",
    "import concurrent.futures\n",
    "\n",
    "start = time.perf_counter()\n",
    "\n",
    "def go_sleep(sec):\n",
    "    print('Sleep {} sec(s)'.format(sec))\n",
    "    time.sleep(sec)\n",
    "    return 'Done sleep {}'.format(sec)\n",
    "    \n",
    "with concurrent.futures.ProcessPoolExecutor() as executor:\n",
    "    secs = [5, 4, 3, 2, 1]\n",
    "    results = executor.map(go_sleep, secs)\n",
    "    \n",
    "#     for result in results:\n",
    "#         print(result)\n",
    "    \n",
    "finish = time.perf_counter()\n",
    "\n",
    "print('Finished in {} second(s)'.format(round(finish-start, 2)))"
   ]
  }
 ],
 "metadata": {
  "kernelspec": {
   "display_name": "Python 3",
   "language": "python",
   "name": "python3"
  },
  "language_info": {
   "codemirror_mode": {
    "name": "ipython",
    "version": 3
   },
   "file_extension": ".py",
   "mimetype": "text/x-python",
   "name": "python",
   "nbconvert_exporter": "python",
   "pygments_lexer": "ipython3",
   "version": "3.6.5"
  }
 },
 "nbformat": 4,
 "nbformat_minor": 2
}
